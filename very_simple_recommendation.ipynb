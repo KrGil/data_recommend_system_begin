{
  "nbformat": 4,
  "nbformat_minor": 0,
  "metadata": {
    "colab": {
      "name": "very simple recommendation.ipynb",
      "private_outputs": true,
      "provenance": [],
      "collapsed_sections": [],
      "mount_file_id": "19Aq-D2UhyytpWv9lZYa9OenuGMxGrZJD",
      "authorship_tag": "ABX9TyMMtkeklAi2iI2WGhM4peHm",
      "include_colab_link": true
    },
    "kernelspec": {
      "name": "python3",
      "display_name": "Python 3"
    }
  },
  "cells": [
    {
      "cell_type": "markdown",
      "metadata": {
        "id": "view-in-github",
        "colab_type": "text"
      },
      "source": [
        "<a href=\"https://colab.research.google.com/github/KrGil/data_recommend_system_begin/blob/master/very_simple_recommendation.ipynb\" target=\"_parent\"><img src=\"https://colab.research.google.com/assets/colab-badge.svg\" alt=\"Open In Colab\"/></a>"
      ]
    },
    {
      "cell_type": "code",
      "metadata": {
        "id": "dwip_051ZyOn"
      },
      "source": [
        "import pandas as pd"
      ],
      "execution_count": null,
      "outputs": []
    },
    {
      "cell_type": "code",
      "metadata": {
        "id": "zZsQFaQ2x2QG"
      },
      "source": [
        "pd.__version__"
      ],
      "execution_count": null,
      "outputs": []
    },
    {
      "cell_type": "code",
      "metadata": {
        "id": "BqCeL2NdxFci"
      },
      "source": [
        "ratings = pd.read_pickle('/content/drive/MyDrive/추천 시스템 입문반(강의용)/data/ml_latest_small/ratings_updated.p')"
      ],
      "execution_count": null,
      "outputs": []
    },
    {
      "cell_type": "markdown",
      "metadata": {
        "id": "rLFsIBzuxFkv"
      },
      "source": [
        "###RMSE"
      ]
    },
    {
      "cell_type": "code",
      "metadata": {
        "id": "c1PsSfvaxFqH"
      },
      "source": [
        "rating_example = [[4, 3.5], [5, 5], [0.5, 1], [3, 5]]\r\n",
        "rating_example = pd.DataFrame(rating_example, columns = ['Actual', 'Predict'])"
      ],
      "execution_count": null,
      "outputs": []
    },
    {
      "cell_type": "code",
      "metadata": {
        "id": "ya-mp4quxFuX"
      },
      "source": [
        "# error = Actual - Predict\r\n",
        "rating_example['error'] = rating_example['Actual'] - rating_example['Predict']"
      ],
      "execution_count": null,
      "outputs": []
    },
    {
      "cell_type": "code",
      "metadata": {
        "id": "vo_x_xtBxFyX"
      },
      "source": [
        "# 양수와 음수를 더하면 상쇄되기 때문에 모든 에러에 제곱을 해준다.\r\n",
        "# squared error : +와 -가 캔슬되는 것을 막기 위해서\r\n",
        "rating_example['squared error'] = rating_example['error'] ** 2"
      ],
      "execution_count": null,
      "outputs": []
    },
    {
      "cell_type": "code",
      "metadata": {
        "id": "ab0qF15W274H"
      },
      "source": [
        "# mean squared error : mse\r\n",
        "mse = rating_example['squared error'].mean()\r\n",
        "mse"
      ],
      "execution_count": null,
      "outputs": []
    },
    {
      "cell_type": "code",
      "metadata": {
        "id": "hXTBY-Kv3V1S"
      },
      "source": [
        "import numpy as np"
      ],
      "execution_count": null,
      "outputs": []
    },
    {
      "cell_type": "code",
      "metadata": {
        "id": "PGuZs9oK3rPt"
      },
      "source": [
        "# root mean squared error : rmse\r\n",
        "rmse = np.sqrt(mse)\r\n",
        "rmse"
      ],
      "execution_count": null,
      "outputs": []
    },
    {
      "cell_type": "markdown",
      "metadata": {
        "id": "RGWMksVW3tx2"
      },
      "source": [
        "###RMSE with sklearn\r\n",
        "https://scikit-learn.org/stable/"
      ]
    },
    {
      "cell_type": "code",
      "metadata": {
        "id": "P-iRWwFe338H"
      },
      "source": [
        "from sklearn.metrics import mean_squared_error"
      ],
      "execution_count": null,
      "outputs": []
    },
    {
      "cell_type": "code",
      "metadata": {
        "id": "bZRuNBAK35co"
      },
      "source": [
        "mse = mean_squared_error(rating_example['Actual'], rating_example['Predict'])\r\n",
        "rmse = np.sqrt(mse)\r\n",
        "rmse"
      ],
      "execution_count": null,
      "outputs": []
    },
    {
      "cell_type": "markdown",
      "metadata": {
        "id": "0AZe8dRM35nf"
      },
      "source": [
        "## Train Test Split"
      ]
    },
    {
      "cell_type": "code",
      "metadata": {
        "id": "V9IgjZ0635r4"
      },
      "source": [
        "from sklearn.model_selection import train_test_split"
      ],
      "execution_count": null,
      "outputs": []
    },
    {
      "cell_type": "code",
      "metadata": {
        "id": "QV5LbL6o35vf"
      },
      "source": [
        "train, test = train_test_split(ratings, random_state=42, test_size = 0.1)"
      ],
      "execution_count": null,
      "outputs": []
    },
    {
      "cell_type": "code",
      "metadata": {
        "id": "lkWTW4ze35zX"
      },
      "source": [
        "print(train.shape)\r\n",
        "print(test.shape)"
      ],
      "execution_count": null,
      "outputs": []
    },
    {
      "cell_type": "code",
      "metadata": {
        "id": "b-R81suV352v"
      },
      "source": [
        ""
      ],
      "execution_count": null,
      "outputs": []
    },
    {
      "cell_type": "code",
      "metadata": {
        "id": "g2nfTaVR357F"
      },
      "source": [
        ""
      ],
      "execution_count": null,
      "outputs": []
    },
    {
      "cell_type": "code",
      "metadata": {
        "id": "vIGppVA535-Y"
      },
      "source": [
        ""
      ],
      "execution_count": null,
      "outputs": []
    }
  ]
}