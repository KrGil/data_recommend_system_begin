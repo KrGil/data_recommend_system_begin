{
  "nbformat": 4,
  "nbformat_minor": 0,
  "metadata": {
    "colab": {
      "name": "very simple recommendation.ipynb",
      "private_outputs": true,
      "provenance": [],
      "collapsed_sections": [],
      "toc_visible": true,
      "mount_file_id": "19Aq-D2UhyytpWv9lZYa9OenuGMxGrZJD",
      "authorship_tag": "ABX9TyN6A1GWU5CcUFbdoz6Qa8rl",
      "include_colab_link": true
    },
    "kernelspec": {
      "name": "python3",
      "display_name": "Python 3"
    }
  },
  "cells": [
    {
      "cell_type": "markdown",
      "metadata": {
        "id": "view-in-github",
        "colab_type": "text"
      },
      "source": [
        "<a href=\"https://colab.research.google.com/github/KrGil/data_recommend_system_begin/blob/master/very_simple_recommendation.ipynb\" target=\"_parent\"><img src=\"https://colab.research.google.com/assets/colab-badge.svg\" alt=\"Open In Colab\"/></a>"
      ]
    },
    {
      "cell_type": "code",
      "metadata": {
        "id": "dwip_051ZyOn"
      },
      "source": [
        "import pandas as pd"
      ],
      "execution_count": null,
      "outputs": []
    },
    {
      "cell_type": "code",
      "metadata": {
        "id": "zZsQFaQ2x2QG"
      },
      "source": [
        "pd.__version__"
      ],
      "execution_count": null,
      "outputs": []
    },
    {
      "cell_type": "code",
      "metadata": {
        "id": "BqCeL2NdxFci"
      },
      "source": [
        "ratings = pd.read_pickle('/content/drive/MyDrive/추천 시스템 입문반(강의용)/data/ml_latest_small/ratings_updated.p')"
      ],
      "execution_count": null,
      "outputs": []
    },
    {
      "cell_type": "markdown",
      "metadata": {
        "id": "rLFsIBzuxFkv"
      },
      "source": [
        "###RMSE"
      ]
    },
    {
      "cell_type": "code",
      "metadata": {
        "id": "c1PsSfvaxFqH"
      },
      "source": [
        "rating_example = [[4, 3.5], [5, 5], [0.5, 1], [3, 5]]\r\n",
        "rating_example = pd.DataFrame(rating_example, columns = ['Actual', 'Predict'])\r\n",
        "rating_example"
      ],
      "execution_count": null,
      "outputs": []
    },
    {
      "cell_type": "code",
      "metadata": {
        "id": "ya-mp4quxFuX"
      },
      "source": [
        "# error = Actual - Predict\r\n",
        "rating_example['error'] = rating_example['Actual'] - rating_example['Predict']"
      ],
      "execution_count": null,
      "outputs": []
    },
    {
      "cell_type": "code",
      "metadata": {
        "id": "vo_x_xtBxFyX"
      },
      "source": [
        "# 양수와 음수를 더하면 상쇄되기 때문에 모든 에러에 제곱을 해준다.\r\n",
        "# squared error : +와 -가 캔슬되는 것을 막기 위해서\r\n",
        "rating_example['squared error'] = rating_example['error'] ** 2"
      ],
      "execution_count": null,
      "outputs": []
    },
    {
      "cell_type": "code",
      "metadata": {
        "id": "ab0qF15W274H"
      },
      "source": [
        "# mean squared error : mse 평균 제곱근 오차\r\n",
        "mse = rating_example['squared error'].mean()\r\n",
        "mse"
      ],
      "execution_count": null,
      "outputs": []
    },
    {
      "cell_type": "code",
      "metadata": {
        "id": "hxaHkkd-hzaw"
      },
      "source": [
        ""
      ],
      "execution_count": null,
      "outputs": []
    },
    {
      "cell_type": "code",
      "metadata": {
        "id": "hXTBY-Kv3V1S"
      },
      "source": [
        "import numpy as np"
      ],
      "execution_count": null,
      "outputs": []
    },
    {
      "cell_type": "code",
      "metadata": {
        "id": "PGuZs9oK3rPt"
      },
      "source": [
        "# root mean squared error : rmse 평균 제곱근 오차라고 부른다.\r\n",
        "rmse = np.sqrt(mse)\r\n",
        "rmse"
      ],
      "execution_count": null,
      "outputs": []
    },
    {
      "cell_type": "markdown",
      "metadata": {
        "id": "RGWMksVW3tx2"
      },
      "source": [
        "###RMSE with sklearn\r\n",
        "https://scikit-learn.org/stable/"
      ]
    },
    {
      "cell_type": "code",
      "metadata": {
        "id": "P-iRWwFe338H"
      },
      "source": [
        "from sklearn.metrics import mean_squared_error"
      ],
      "execution_count": null,
      "outputs": []
    },
    {
      "cell_type": "code",
      "metadata": {
        "id": "bZRuNBAK35co"
      },
      "source": [
        "mse = mean_squared_error(rating_example['Actual'], rating_example['Predict'])\r\n",
        "rmse = np.sqrt(mse)\r\n",
        "rmse"
      ],
      "execution_count": null,
      "outputs": []
    },
    {
      "cell_type": "markdown",
      "metadata": {
        "id": "0AZe8dRM35nf"
      },
      "source": [
        "## Train Test Split"
      ]
    },
    {
      "cell_type": "code",
      "metadata": {
        "id": "V9IgjZ0635r4"
      },
      "source": [
        "from sklearn.model_selection import train_test_split"
      ],
      "execution_count": null,
      "outputs": []
    },
    {
      "cell_type": "code",
      "metadata": {
        "id": "QV5LbL6o35vf"
      },
      "source": [
        "##같은 결과가 나오게 섞기, 전체 데이터에서 몇퍼센트를 테스트 사이즈로 결정할 지.\r\n",
        "train, test = train_test_split(ratings, random_state=42, test_size = 0.1)"
      ],
      "execution_count": null,
      "outputs": []
    },
    {
      "cell_type": "code",
      "metadata": {
        "id": "lkWTW4ze35zX"
      },
      "source": [
        "print(train.shape)\r\n",
        "print(test.shape)"
      ],
      "execution_count": null,
      "outputs": []
    },
    {
      "cell_type": "markdown",
      "metadata": {
        "id": "b-R81suV352v"
      },
      "source": [
        "##가장 간단한 예측하기"
      ]
    },
    {
      "cell_type": "code",
      "metadata": {
        "id": "g2nfTaVR357F"
      },
      "source": [
        "test.shape"
      ],
      "execution_count": null,
      "outputs": []
    },
    {
      "cell_type": "markdown",
      "metadata": {
        "id": "aFvatqUNeJLi"
      },
      "source": [
        "모두 0.5점으로 예측하기"
      ]
    },
    {
      "cell_type": "code",
      "metadata": {
        "id": "vIGppVA535-Y"
      },
      "source": [
        "predictions = [0.5]*len(test)"
      ],
      "execution_count": null,
      "outputs": []
    },
    {
      "cell_type": "code",
      "metadata": {
        "id": "sOdz6uIfdCLE"
      },
      "source": [
        "# mean_squared_error(actual, predict)\r\n",
        "mse = mean_squared_error(test['rating'], predictions)\r\n",
        "rmse = np.sqrt(mse)\r\n",
        "rmse"
      ],
      "execution_count": null,
      "outputs": []
    },
    {
      "cell_type": "markdown",
      "metadata": {
        "id": "ztTJ-QkWdc7k"
      },
      "source": [
        "* (숙제) 모두 5점으로 예측하기\r\n"
      ]
    },
    {
      "cell_type": "code",
      "metadata": {
        "id": "pqHUV4BXeS0s"
      },
      "source": [
        "#Answer 성능이 좋으면 왜 좋은지"
      ],
      "execution_count": null,
      "outputs": []
    },
    {
      "cell_type": "code",
      "metadata": {
        "id": "p67qh_3yhBw-"
      },
      "source": [
        "# predictions = [5] * len(train)\r\n",
        "predictions = [5] * len(test)"
      ],
      "execution_count": null,
      "outputs": []
    },
    {
      "cell_type": "code",
      "metadata": {
        "id": "gXiJzFMnhejP"
      },
      "source": [
        "mse = mean_squared_error(test['rating'], predictions)\r\n",
        "# mse = mean_squared_error(train['rating'], predictions)\r\n",
        "rmse = np.sqrt(mse)\r\n",
        "rmse\r\n"
      ],
      "execution_count": null,
      "outputs": []
    },
    {
      "cell_type": "code",
      "metadata": {
        "id": "P6ut8lnkhepa"
      },
      "source": [
        "# predictinos_df = pd.DataFrame(predictions, columns=['predictions'])\r\n",
        "# predictinos_df"
      ],
      "execution_count": null,
      "outputs": []
    },
    {
      "cell_type": "code",
      "metadata": {
        "id": "KmpTooHAhezD"
      },
      "source": [
        "# 왜 0.5점으로 한 것보다 5점으로 예측한 것이 오류가 작을까?\r\n",
        "# 0.5에서의 rmse는 약 3.17로 점수의 분포가 대략 3.5점대로 예상을 할 수 있다.\r\n",
        "# 그리고 5점으로 예측 했을 경우 그 오류값이 1.83으로 처음 예상했던 3.5점과 5점이 더욱 가깝기 때문에\r\n",
        "# 0.5점보다는 5점을 예상했을 때 rmse가 더욱 줄어들었으며 1.83으로 평균적으로 3 ~ 3.5점에 분포하고 있을 것이다 라고 예상할 수 있다. "
      ],
      "execution_count": null,
      "outputs": []
    },
    {
      "cell_type": "markdown",
      "metadata": {
        "id": "WCYkuI1EecnZ"
      },
      "source": [
        " * (숙제) 데이터의  평균으로 예측하기\r\n",
        "\r\n",
        "\r\n",
        "    주의점 : train 데이터의 평균으로 test 데이터의 평균을 예측해야함."
      ]
    },
    {
      "cell_type": "code",
      "metadata": {
        "id": "7HeycQKVeocI"
      },
      "source": [
        "# Answer\r\n",
        "# 평균 구하기\r\n",
        "rating_mean = [train['rating'].mean()] * len(test)\r\n",
        "test['mean'] = rating_mean.copy()\r\n",
        "test['mean']"
      ],
      "execution_count": null,
      "outputs": []
    },
    {
      "cell_type": "code",
      "metadata": {
        "id": "goDOJ4Zope9I"
      },
      "source": [
        "mse = mean_squared_error(test['rating'], test['mean'])\r\n",
        "rmse = np.sqrt(mse)\r\n",
        "rmse"
      ],
      "execution_count": null,
      "outputs": []
    },
    {
      "cell_type": "code",
      "metadata": {
        "id": "W-S3-DxVuNIc"
      },
      "source": [
        "# 왜 좋을까? \r\n",
        "# 0.5나 5점으로 예상했을 때 보다 평균으로 예상했을 때의 rmse의 수차가 더 적다.\r\n",
        "# 그러나 1.0안으로 들어갈 것이라고 예상했는데 생각보다 rmse가 높다.\r\n",
        "# rmse가 평균을 사용했을 때 더 낮은 이유는 0.5와 5 사이에 존재하고 있기 때문에\r\n",
        "# 더 낮은 rmse를 보여주지 않았나 싶다."
      ],
      "execution_count": null,
      "outputs": []
    },
    {
      "cell_type": "markdown",
      "metadata": {
        "id": "SS_rLYKietK9"
      },
      "source": [
        "* (숙제) 사용자 \r\n",
        "평점 기반 예측하기 : \r\n",
        "\r\n",
        "    - 각 사용자의 평균 평점으로(train), 영화에 대한 평점을 예측(test)하세요.\r\n",
        "    - train에 해당 사용자에 대한 평점기록이 전혀 없다면, 어떻게 해야할까요?\r\n",
        "    - (예 : userid 1번의 train 데이터상 평균 평점을 4.33이라고 한다면, userid 1번의 test 데이터에 대한 모든 영화 평점을 4.33으로 한다.)\r\n",
        "    - 이 예측 방법은 어떤 가정을 가지고 있나요? 예측의 근거를 찾아보세요."
      ]
    },
    {
      "cell_type": "code",
      "metadata": {
        "id": "lbGcZ02mfFEl"
      },
      "source": [
        "# Answer\r\n",
        "user1 = test[test['userId']==1]\r\n",
        "user1['rating'].mean()"
      ],
      "execution_count": null,
      "outputs": []
    },
    {
      "cell_type": "code",
      "metadata": {
        "id": "h4tuAtqsyEQG"
      },
      "source": [
        "for item in test :\r\n",
        "    user = test[test['userId'] == item]\r\n",
        "    test.append(user(item)['rating'].mean()).copy()"
      ],
      "execution_count": null,
      "outputs": []
    },
    {
      "cell_type": "markdown",
      "metadata": {
        "id": "tohluKlafvcC"
      },
      "source": [
        "* (숙제) 영화 평점 기반 예측하기 : \r\n",
        "\r\n",
        "    - 각 영화의 평균 평점으로(train), 영화에 대한 평점을 예측(test)하세요.\r\n",
        "    - train에 해당 영화에 대한 평점기록이 전혀 없다면, 어떻게 해야할까요?\r\n",
        "    - (예 : movieid 1번의 train 데이터상 평균 평점을 4.5이라고 한다면, movieId 1번의 test 데이터에 대한 모든 영화 평점을 4.5으로 한다.)\r\n",
        "    - 이 예측 방법은 어떤 가정을 가지고 있나요? 예측의 근거를 찾아보세요."
      ]
    },
    {
      "cell_type": "code",
      "metadata": {
        "id": "ogubYph-gD9s"
      },
      "source": [
        "# Answer"
      ],
      "execution_count": null,
      "outputs": []
    }
  ]
}