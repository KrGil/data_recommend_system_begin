{
  "nbformat": 4,
  "nbformat_minor": 0,
  "metadata": {
    "colab": {
      "name": "1. movies.ipynb",
      "provenance": [],
      "collapsed_sections": [
        "cmjeQcCezX51",
        "xG4v9__D1iST"
      ],
      "toc_visible": true,
      "mount_file_id": "1EIfjMbccg3wLWdKJ2_r1gqD_9GxpkVtE",
      "authorship_tag": "ABX9TyOUcpYp/UX7E1jhs9A5/dw9",
      "include_colab_link": true
    },
    "kernelspec": {
      "name": "python3",
      "display_name": "Python 3"
    }
  },
  "cells": [
    {
      "cell_type": "markdown",
      "metadata": {
        "id": "view-in-github",
        "colab_type": "text"
      },
      "source": [
        "<a href=\"https://colab.research.google.com/github/KrGil/data_recommend_system_begin/blob/master/1_movies.ipynb\" target=\"_parent\"><img src=\"https://colab.research.google.com/assets/colab-badge.svg\" alt=\"Open In Colab\"/></a>"
      ]
    },
    {
      "cell_type": "code",
      "metadata": {
        "id": "OCZVq3C-uOV0"
      },
      "source": [
        "import pandas as pd"
      ],
      "execution_count": 130,
      "outputs": []
    },
    {
      "cell_type": "code",
      "metadata": {
        "colab": {
          "base_uri": "https://localhost:8080/",
          "height": 35
        },
        "id": "pQ1Kss-wuWRu",
        "outputId": "268a9d4c-8cc4-4109-8035-8f1883a386f9"
      },
      "source": [
        "pd.__version__"
      ],
      "execution_count": 131,
      "outputs": [
        {
          "output_type": "execute_result",
          "data": {
            "application/vnd.google.colaboratory.intrinsic+json": {
              "type": "string"
            },
            "text/plain": [
              "'1.1.5'"
            ]
          },
          "metadata": {
            "tags": []
          },
          "execution_count": 131
        }
      ]
    },
    {
      "cell_type": "markdown",
      "metadata": {
        "id": "MeTuOiKLujy_"
      },
      "source": [
        "#Read Data"
      ]
    },
    {
      "cell_type": "code",
      "metadata": {
        "id": "moszAp14uuiY"
      },
      "source": [
        "movies = pd.read_csv('/content/drive/MyDrive/추천 시스템 입문반(강의용)/data/ml_latest_small/movies.csv', index_col='movieId')"
      ],
      "execution_count": 132,
      "outputs": []
    },
    {
      "cell_type": "code",
      "metadata": {
        "colab": {
          "base_uri": "https://localhost:8080/"
        },
        "id": "Ax3cNDMZvL2K",
        "outputId": "f83f696e-8ebd-42a2-98ff-fde784416d92"
      },
      "source": [
        "movies.shape"
      ],
      "execution_count": 133,
      "outputs": [
        {
          "output_type": "execute_result",
          "data": {
            "text/plain": [
              "(9742, 2)"
            ]
          },
          "metadata": {
            "tags": []
          },
          "execution_count": 133
        }
      ]
    },
    {
      "cell_type": "code",
      "metadata": {
        "colab": {
          "base_uri": "https://localhost:8080/",
          "height": 0
        },
        "id": "3isZHZLuvXq3",
        "outputId": "4a619968-f973-463b-d979-061447abb46a"
      },
      "source": [
        "# movies.head(10)\r\n",
        "# movies.tail(10)\r\n",
        "# movies.sample(10)\r\n",
        "movies.sample()"
      ],
      "execution_count": 134,
      "outputs": [
        {
          "output_type": "execute_result",
          "data": {
            "text/html": [
              "<div>\n",
              "<style scoped>\n",
              "    .dataframe tbody tr th:only-of-type {\n",
              "        vertical-align: middle;\n",
              "    }\n",
              "\n",
              "    .dataframe tbody tr th {\n",
              "        vertical-align: top;\n",
              "    }\n",
              "\n",
              "    .dataframe thead th {\n",
              "        text-align: right;\n",
              "    }\n",
              "</style>\n",
              "<table border=\"1\" class=\"dataframe\">\n",
              "  <thead>\n",
              "    <tr style=\"text-align: right;\">\n",
              "      <th></th>\n",
              "      <th>title</th>\n",
              "      <th>genres</th>\n",
              "    </tr>\n",
              "    <tr>\n",
              "      <th>movieId</th>\n",
              "      <th></th>\n",
              "      <th></th>\n",
              "    </tr>\n",
              "  </thead>\n",
              "  <tbody>\n",
              "    <tr>\n",
              "      <th>7325</th>\n",
              "      <td>Starsky &amp; Hutch (2004)</td>\n",
              "      <td>Action|Comedy|Crime|Thriller</td>\n",
              "    </tr>\n",
              "  </tbody>\n",
              "</table>\n",
              "</div>"
            ],
            "text/plain": [
              "                          title                        genres\n",
              "movieId                                                      \n",
              "7325     Starsky & Hutch (2004)  Action|Comedy|Crime|Thriller"
            ]
          },
          "metadata": {
            "tags": []
          },
          "execution_count": 134
        }
      ]
    },
    {
      "cell_type": "code",
      "metadata": {
        "colab": {
          "base_uri": "https://localhost:8080/"
        },
        "id": "fpRRSUsTvZlv",
        "outputId": "c855f2a7-9a22-4089-e6ba-bca20db6509b"
      },
      "source": [
        "movies.columns"
      ],
      "execution_count": 135,
      "outputs": [
        {
          "output_type": "execute_result",
          "data": {
            "text/plain": [
              "Index(['title', 'genres'], dtype='object')"
            ]
          },
          "metadata": {
            "tags": []
          },
          "execution_count": 135
        }
      ]
    },
    {
      "cell_type": "markdown",
      "metadata": {
        "id": "HGvmbV8ZvtUa"
      },
      "source": [
        "# Save Data"
      ]
    },
    {
      "cell_type": "code",
      "metadata": {
        "id": "i6vswXbWv07j"
      },
      "source": [
        "movies.to_csv('/content/drive/MyDrive/추천 시스템 입문반(강의용)/data/ml_latest_small/save_test.csv')"
      ],
      "execution_count": 136,
      "outputs": []
    },
    {
      "cell_type": "markdown",
      "metadata": {
        "id": "wVhbasrewRrI"
      },
      "source": [
        "###개봉연도 데이터 정제하기 (데이터 전처리, Preprocessing)"
      ]
    },
    {
      "cell_type": "code",
      "metadata": {
        "id": "AJTWkgzqxIi9",
        "colab": {
          "base_uri": "https://localhost:8080/"
        },
        "outputId": "d03f7f8a-be60-4cd1-9893-56bb4dadf086"
      },
      "source": [
        "# Pandas apply, Python lambda expression 으로 간단하게 풀어보기\r\n",
        "# apply, title이라는 컬럼에 ㅎ마수를 반복 적용, for문의 기능\r\n",
        "# apply(함수) : 함수를 lambda 함수로도 써 줄 수 있다.\r\n",
        "\r\n",
        "movies['year'] = movies['title'].apply(lambda x: x[-5:-1])\r\n",
        "movies['year'].unique()"
      ],
      "execution_count": 137,
      "outputs": [
        {
          "output_type": "execute_result",
          "data": {
            "text/plain": [
              "array(['1995', '1994', '1996', '1976', '1992', '1967', '1993', '1964',\n",
              "       '1977', '1965', '1982', '1990', '1991', '1989', '1937', '1940',\n",
              "       '1969', '1981', '1973', '1970', '1955', '1959', '1968', '1988',\n",
              "       '1997', '1972', '1943', '1952', '1951', '1957', '1961', '1958',\n",
              "       '1954', '1934', '1944', '1960', '1963', '1942', '1941', '1953',\n",
              "       '1939', '1950', '1946', '1945', '1938', '1947', '1935', '1936',\n",
              "       '1956', '1949', '1932', '1975', '1974', '1971', '1979', '1987',\n",
              "       '1986', '1980', '1978', '1985', '1966', '1962', '1983', '1984',\n",
              "       '1948', '1933', '1931', '1922', '1998', '1929', '1930', '1927',\n",
              "       '1928', '1999', '2000', '1926', '1919', '1921', '1925', '1923',\n",
              "       '2001', '2002', '2003', '1920', '1915', '1924', '2004', '1916',\n",
              "       '1917', '999)', '2005', '2006', '1902', 'lon ', '1903', '2007',\n",
              "       '2008', '008)', '007)', '2009', '2010', '2011', '2012', '011)',\n",
              "       '998)', '995)', '2013', '012)', '973)', '2014', '2015', '014)',\n",
              "       '2016', '2017', '2018', '1908', 'r On', ' Roa', 'atso', 'imal',\n",
              "       'erso', 'ligh', 'he O', 'osmo', ' Bab', 'ron ', 'irro'],\n",
              "      dtype=object)"
            ]
          },
          "metadata": {
            "tags": []
          },
          "execution_count": 137
        }
      ]
    },
    {
      "cell_type": "code",
      "metadata": {
        "colab": {
          "base_uri": "https://localhost:8080/",
          "height": 109
        },
        "id": "6pXv1j3R1Qt_",
        "outputId": "d7c970a0-8353-4607-db75-0a6abad2cd8f"
      },
      "source": [
        "movies[movies['year'] == '012)']"
      ],
      "execution_count": 138,
      "outputs": [
        {
          "output_type": "execute_result",
          "data": {
            "text/html": [
              "<div>\n",
              "<style scoped>\n",
              "    .dataframe tbody tr th:only-of-type {\n",
              "        vertical-align: middle;\n",
              "    }\n",
              "\n",
              "    .dataframe tbody tr th {\n",
              "        vertical-align: top;\n",
              "    }\n",
              "\n",
              "    .dataframe thead th {\n",
              "        text-align: right;\n",
              "    }\n",
              "</style>\n",
              "<table border=\"1\" class=\"dataframe\">\n",
              "  <thead>\n",
              "    <tr style=\"text-align: right;\">\n",
              "      <th></th>\n",
              "      <th>title</th>\n",
              "      <th>genres</th>\n",
              "      <th>year</th>\n",
              "    </tr>\n",
              "    <tr>\n",
              "      <th>movieId</th>\n",
              "      <th></th>\n",
              "      <th></th>\n",
              "      <th></th>\n",
              "    </tr>\n",
              "  </thead>\n",
              "  <tbody>\n",
              "    <tr>\n",
              "      <th>102084</th>\n",
              "      <td>Justice League: Doom (2012)</td>\n",
              "      <td>Action|Animation|Fantasy</td>\n",
              "      <td>012)</td>\n",
              "    </tr>\n",
              "  </tbody>\n",
              "</table>\n",
              "</div>"
            ],
            "text/plain": [
              "                                title                    genres  year\n",
              "movieId                                                              \n",
              "102084   Justice League: Doom (2012)   Action|Animation|Fantasy  012)"
            ]
          },
          "metadata": {
            "tags": []
          },
          "execution_count": 138
        }
      ]
    },
    {
      "cell_type": "code",
      "metadata": {
        "colab": {
          "base_uri": "https://localhost:8080/",
          "height": 35
        },
        "id": "vC138VbM1RL1",
        "outputId": "cdfe803e-8989-4ff7-9bd3-74bc62b164f2"
      },
      "source": [
        "# Pandas .loc[] == location\r\n",
        "# movies.loc[index, 'column']\r\n",
        "movies.loc[102084, 'title'].strip()"
      ],
      "execution_count": 139,
      "outputs": [
        {
          "output_type": "execute_result",
          "data": {
            "application/vnd.google.colaboratory.intrinsic+json": {
              "type": "string"
            },
            "text/plain": [
              "'Justice League: Doom (2012)'"
            ]
          },
          "metadata": {
            "tags": []
          },
          "execution_count": 139
        }
      ]
    },
    {
      "cell_type": "code",
      "metadata": {
        "id": "wI3vKKH66nZI"
      },
      "source": [
        "movies['title'] = movies['title'].apply(lambda x : x.strip())"
      ],
      "execution_count": 140,
      "outputs": []
    },
    {
      "cell_type": "code",
      "metadata": {
        "colab": {
          "base_uri": "https://localhost:8080/"
        },
        "id": "b9Y3BwXF6qZo",
        "outputId": "c7c14eae-b8e9-4c66-9324-cf1f522d1a9b"
      },
      "source": [
        "movies['year'] = movies['title'].apply(lambda x : x[-5:-1])\r\n",
        "movies['year'].unique()"
      ],
      "execution_count": 145,
      "outputs": [
        {
          "output_type": "execute_result",
          "data": {
            "text/plain": [
              "array(['1995', '1994', '1996', '1976', '1992', '1967', '1993', '1964',\n",
              "       '1977', '1965', '1982', '1990', '1991', '1989', '1937', '1940',\n",
              "       '1969', '1981', '1973', '1970', '1955', '1959', '1968', '1988',\n",
              "       '1997', '1972', '1943', '1952', '1951', '1957', '1961', '1958',\n",
              "       '1954', '1934', '1944', '1960', '1963', '1942', '1941', '1953',\n",
              "       '1939', '1950', '1946', '1945', '1938', '1947', '1935', '1936',\n",
              "       '1956', '1949', '1932', '1975', '1974', '1971', '1979', '1987',\n",
              "       '1986', '1980', '1978', '1985', '1966', '1962', '1983', '1984',\n",
              "       '1948', '1933', '1931', '1922', '1998', '1929', '1930', '1927',\n",
              "       '1928', '1999', '2000', '1926', '1919', '1921', '1925', '1923',\n",
              "       '2001', '2002', '2003', '1920', '1915', '1924', '2004', '1916',\n",
              "       '1917', '2005', '2006', '1902', 'lon ', '1903', '2007', '2008',\n",
              "       '2009', '2010', '2011', '2012', '2013', '2014', '2015', '2016',\n",
              "       '2017', '2018', '1908', 'r On', ' Roa', 'atso', 'imal', 'erso',\n",
              "       'ligh', 'he O', 'osmo', ' Bab', 'ron ', 'irro'], dtype=object)"
            ]
          },
          "metadata": {
            "tags": []
          },
          "execution_count": 145
        }
      ]
    },
    {
      "cell_type": "code",
      "metadata": {
        "id": "kfLOCaRm8Nr3"
      },
      "source": [
        "errors = ['lon ','r On', ' Roa', 'atso', 'imal', 'erso',\r\n",
        "          'ligh', 'he O', 'osmo', ' Bab', 'ron ', 'irro']"
      ],
      "execution_count": 146,
      "outputs": []
    },
    {
      "cell_type": "code",
      "metadata": {
        "id": "KPduf7pS8N1n"
      },
      "source": [
        "# Pandas location\r\n",
        "# movies.loc[incex(필터링정보), column]\r\n",
        "movies.loc[movies['year'].isin(errors), 'year'] = '2050'"
      ],
      "execution_count": 149,
      "outputs": []
    },
    {
      "cell_type": "code",
      "metadata": {
        "colab": {
          "base_uri": "https://localhost:8080/"
        },
        "id": "r7U9h9dj8N9m",
        "outputId": "ab3d4c73-6f94-4460-a258-99e257aeeac4"
      },
      "source": [
        "movies['year'].unique()"
      ],
      "execution_count": 150,
      "outputs": [
        {
          "output_type": "execute_result",
          "data": {
            "text/plain": [
              "array(['1995', '1994', '1996', '1976', '1992', '1967', '1993', '1964',\n",
              "       '1977', '1965', '1982', '1990', '1991', '1989', '1937', '1940',\n",
              "       '1969', '1981', '1973', '1970', '1955', '1959', '1968', '1988',\n",
              "       '1997', '1972', '1943', '1952', '1951', '1957', '1961', '1958',\n",
              "       '1954', '1934', '1944', '1960', '1963', '1942', '1941', '1953',\n",
              "       '1939', '1950', '1946', '1945', '1938', '1947', '1935', '1936',\n",
              "       '1956', '1949', '1932', '1975', '1974', '1971', '1979', '1987',\n",
              "       '1986', '1980', '1978', '1985', '1966', '1962', '1983', '1984',\n",
              "       '1948', '1933', '1931', '1922', '1998', '1929', '1930', '1927',\n",
              "       '1928', '1999', '2000', '1926', '1919', '1921', '1925', '1923',\n",
              "       '2001', '2002', '2003', '1920', '1915', '1924', '2004', '1916',\n",
              "       '1917', '2005', '2006', '1902', '2050', '1903', '2007', '2008',\n",
              "       '2009', '2010', '2011', '2012', '2013', '2014', '2015', '2016',\n",
              "       '2017', '2018', '1908'], dtype=object)"
            ]
          },
          "metadata": {
            "tags": []
          },
          "execution_count": 150
        }
      ]
    },
    {
      "cell_type": "code",
      "metadata": {
        "id": "ki152ufm0sMv"
      },
      "source": [
        "movies['year'] = movies['title'].str.extract('(\\(\\d\\d\\d\\d\\))')"
      ],
      "execution_count": null,
      "outputs": []
    },
    {
      "cell_type": "code",
      "metadata": {
        "id": "VWkj7LX_xf98"
      },
      "source": [
        "movies['year'] = movies['year'].str.extract('(\\d\\d\\d\\d)')"
      ],
      "execution_count": null,
      "outputs": []
    },
    {
      "cell_type": "code",
      "metadata": {
        "id": "-l286sJryAtJ"
      },
      "source": [
        "movies"
      ],
      "execution_count": null,
      "outputs": []
    },
    {
      "cell_type": "code",
      "metadata": {
        "id": "tJFgFzyJyVNj"
      },
      "source": [
        "movies['year'].unique()"
      ],
      "execution_count": null,
      "outputs": []
    },
    {
      "cell_type": "markdown",
      "metadata": {
        "id": "tCw5V1rEybIE"
      },
      "source": [
        "### 결측값 핸들링하기\r\n"
      ]
    },
    {
      "cell_type": "code",
      "metadata": {
        "id": "HC4SmjFoymoF"
      },
      "source": [
        "# NaN (Not a Number), 결측치\r\n",
        "movies[movies['year'].isnull()]"
      ],
      "execution_count": null,
      "outputs": []
    },
    {
      "cell_type": "code",
      "metadata": {
        "id": "5HsfWeqNyrzl"
      },
      "source": [
        "movies['year'] = movies['year'].fillna('2050')"
      ],
      "execution_count": null,
      "outputs": []
    },
    {
      "cell_type": "markdown",
      "metadata": {
        "id": "cmjeQcCezX51"
      },
      "source": [
        "### 데이터에 가장 많이 출현하는 개봉연도를 찾아주세요."
      ]
    },
    {
      "cell_type": "code",
      "metadata": {
        "id": "3GfZzjtczOHZ"
      },
      "source": [
        "# movies['year'].value_counts()"
      ],
      "execution_count": null,
      "outputs": []
    },
    {
      "cell_type": "code",
      "metadata": {
        "id": "uSIPbvzmzTiS"
      },
      "source": [
        "%matplotlib inline\r\n",
        "\r\n",
        "import seaborn as sns\r\n",
        "import matplotlib.pyplot as plt # seborn figure 크기 조절을 위해서"
      ],
      "execution_count": null,
      "outputs": []
    },
    {
      "cell_type": "code",
      "metadata": {
        "id": "cknjrn3Izzq2"
      },
      "source": [
        "plt.figure(figsize = (50,10))\r\n",
        "sns.countplot(data= movies, x = 'year', order= sorted(movies['year'].unique()))"
      ],
      "execution_count": null,
      "outputs": []
    },
    {
      "cell_type": "markdown",
      "metadata": {
        "id": "xG4v9__D1iST"
      },
      "source": [
        "### genres  분석\r\n"
      ]
    },
    {
      "cell_type": "code",
      "metadata": {
        "id": "5fDYh-Ut1iap"
      },
      "source": [
        "movies['genres']"
      ],
      "execution_count": null,
      "outputs": []
    },
    {
      "cell_type": "code",
      "metadata": {
        "id": "6M3_g4oI1ifb"
      },
      "source": [
        "sample_genre =movies['genres'][1]\r\n",
        "sample_genre"
      ],
      "execution_count": null,
      "outputs": []
    },
    {
      "cell_type": "code",
      "metadata": {
        "id": "3LczPzQW1ijR"
      },
      "source": [
        "sample_genre.split(\"|\")"
      ],
      "execution_count": null,
      "outputs": []
    },
    {
      "cell_type": "code",
      "metadata": {
        "id": "yTfz0knO1Rti"
      },
      "source": [
        "genres_list = list(movies['genres'].apply(lambda x : x.split(\"|\")))"
      ],
      "execution_count": null,
      "outputs": []
    },
    {
      "cell_type": "code",
      "metadata": {
        "id": "MHPBY5SE0mOr"
      },
      "source": [
        "genres_list[:3]"
      ],
      "execution_count": null,
      "outputs": []
    },
    {
      "cell_type": "markdown",
      "metadata": {
        "id": "OuLCUdPU0kYI"
      },
      "source": [
        "### flatten list of list"
      ]
    },
    {
      "cell_type": "code",
      "metadata": {
        "id": "ctS5BUpPAoXH"
      },
      "source": [
        "flat_list = []\r\n",
        "for sublist in genres_list :\r\n",
        "  for item in sublist :\r\n",
        "    flat_list.append(item)"
      ],
      "execution_count": null,
      "outputs": []
    },
    {
      "cell_type": "code",
      "metadata": {
        "id": "bRuA24j1AqXT"
      },
      "source": [
        "set(flat_list)"
      ],
      "execution_count": null,
      "outputs": []
    },
    {
      "cell_type": "code",
      "metadata": {
        "id": "q_FuWbG-AqNE"
      },
      "source": [
        "flat_list"
      ],
      "execution_count": null,
      "outputs": []
    },
    {
      "cell_type": "code",
      "metadata": {
        "id": "i3MyoRsqAqb1"
      },
      "source": [
        "genres_unique = list(set(flat_list))"
      ],
      "execution_count": null,
      "outputs": []
    },
    {
      "cell_type": "code",
      "metadata": {
        "id": "QpaLu2WeAqfb"
      },
      "source": [
        "len(genres_unique) #19개의 장르"
      ],
      "execution_count": null,
      "outputs": []
    },
    {
      "cell_type": "code",
      "metadata": {
        "id": "zmYE6iEaBWWa"
      },
      "source": [
        "movies"
      ],
      "execution_count": null,
      "outputs": []
    },
    {
      "cell_type": "markdown",
      "metadata": {
        "id": "q9S788SBBoBe"
      },
      "source": [
        "### 장르 데이터 숫자형으로 변환하기"
      ]
    },
    {
      "cell_type": "code",
      "metadata": {
        "id": "dXUMjRBcBlc0"
      },
      "source": [
        "message = 'Hello'\r\n",
        "message"
      ],
      "execution_count": null,
      "outputs": []
    },
    {
      "cell_type": "code",
      "metadata": {
        "id": "Nv4uNL6BB71n"
      },
      "source": [
        "'H' in message"
      ],
      "execution_count": null,
      "outputs": []
    },
    {
      "cell_type": "code",
      "metadata": {
        "id": "pZBGiRX4CEJ2"
      },
      "source": [
        "'Horror' in sample_genre"
      ],
      "execution_count": null,
      "outputs": []
    },
    {
      "cell_type": "code",
      "metadata": {
        "id": "6uAwwR5cBflr"
      },
      "source": [
        "movies['Adventure'] = movies['genres'].apply(lambda x : 'Adventure' in x)\r\n",
        "movies['Comedy'] = movies['genres'].apply(lambda x : 'Comedy' in x)"
      ],
      "execution_count": null,
      "outputs": []
    },
    {
      "cell_type": "code",
      "metadata": {
        "id": "LDeStPqQDihf"
      },
      "source": [
        "# movie"
      ],
      "execution_count": null,
      "outputs": []
    },
    {
      "cell_type": "code",
      "metadata": {
        "id": "XBdcCTYPDHzE"
      },
      "source": [
        "movies.head(10)"
      ],
      "execution_count": null,
      "outputs": []
    },
    {
      "cell_type": "code",
      "metadata": {
        "id": "gLTG4WlbDkQH"
      },
      "source": [
        "# difference between csv and pickle when saving pandas dataframe\r\n",
        "# [stackoverflow] What is the difference between save a pandas dataframe to pickle and to csv?\r\n",
        "genres_dummies = movies['genres'].str.get_dummies(sep='|')"
      ],
      "execution_count": null,
      "outputs": []
    },
    {
      "cell_type": "code",
      "metadata": {
        "id": "XRo5TOjuD70_"
      },
      "source": [
        "genres_dummies.to_pickle('/content/drive/MyDrive/추천 시스템 입문반(강의용)/data/ml_latest_small/genres.p')"
      ],
      "execution_count": null,
      "outputs": []
    },
    {
      "cell_type": "code",
      "metadata": {
        "id": "S2HxiXVMtYGD"
      },
      "source": [
        ""
      ],
      "execution_count": null,
      "outputs": []
    },
    {
      "cell_type": "code",
      "metadata": {
        "id": "qzX1qvYIEV07"
      },
      "source": [
        "# 두 장르의 관계가 1에 가깝다는 것은 : 두 장르가 자주 같이 출현\r\n",
        "# 두 장르의 관계가 -1에 가깝다는 것은 : 두 장르가 아주 드물게 출현, 겹치는 영역이 없음\r\n",
        "# 두 장르의 관계가 0에 가깝다는 것은 :\r\n",
        "plt.figure(figsize = (30, 15))\r\n",
        "sns.heatmap(genres_dummies.corr(), annot=True)"
      ],
      "execution_count": null,
      "outputs": []
    },
    {
      "cell_type": "code",
      "metadata": {
        "id": "Z-mdR1F9FEsW"
      },
      "source": [
        "ratings = pd.read_csv('/content/drive/MyDrive/추천 시스템 입문반(강의용)/data/ml_latest_small/ratings.csv')\r\n",
        "ratings.sample()"
      ],
      "execution_count": null,
      "outputs": []
    },
    {
      "cell_type": "code",
      "metadata": {
        "id": "MNWilIHoIFp8"
      },
      "source": [
        "movies.loc[[6157],'title']"
      ],
      "execution_count": null,
      "outputs": []
    },
    {
      "cell_type": "code",
      "metadata": {
        "id": "OhW_wEoYIztO"
      },
      "source": [
        "ratings.shape"
      ],
      "execution_count": null,
      "outputs": []
    },
    {
      "cell_type": "code",
      "metadata": {
        "id": "Ihoe8fgmJ9Ij"
      },
      "source": [
        "print(len(ratings['userId'].unique()) ) #총 610명의 유저 데이터\r\n",
        "print(len(ratings['movieId'].unique()))  #총 9724개의 영화 데이터"
      ],
      "execution_count": null,
      "outputs": []
    },
    {
      "cell_type": "code",
      "metadata": {
        "id": "UTQutU3QKNqN"
      },
      "source": [
        "#사람들이 남긴 평점의 평균점수\r\n",
        "ratings['rating'].describe()"
      ],
      "execution_count": null,
      "outputs": []
    },
    {
      "cell_type": "code",
      "metadata": {
        "id": "xtRKGp4bLOqL"
      },
      "source": [
        "ratings['rating'].hist()"
      ],
      "execution_count": null,
      "outputs": []
    },
    {
      "cell_type": "markdown",
      "metadata": {
        "id": "2azmRPb4LqhB"
      },
      "source": [
        "### 사람들은 평균적으로 몇 개의 영화에 대해서 rating을 남겼는가?"
      ]
    },
    {
      "cell_type": "code",
      "metadata": {
        "id": "lJ5o3l89MCLs"
      },
      "source": [
        "users = ratings.groupby('userId')['movieId'].count()\r\n",
        "users.describe()"
      ],
      "execution_count": null,
      "outputs": []
    },
    {
      "cell_type": "code",
      "metadata": {
        "id": "Hx5dHdrKMk_i"
      },
      "source": [
        "# power law distribution,  역함수 분포\r\n",
        "import seaborn as sns\r\n",
        "sns.displot(users.values)"
      ],
      "execution_count": null,
      "outputs": []
    },
    {
      "cell_type": "markdown",
      "metadata": {
        "id": "WqKviBJSMpaY"
      },
      "source": [
        "### 사람들이 많이 보는 영화는?"
      ]
    },
    {
      "cell_type": "code",
      "metadata": {
        "id": "H2lTqSZhNV1L"
      },
      "source": [
        "films = ratings.groupby('movieId')['userId'].count()\r\n",
        "films[:5]"
      ],
      "execution_count": null,
      "outputs": []
    },
    {
      "cell_type": "code",
      "metadata": {
        "id": "ojiDbZFiNu35"
      },
      "source": [
        "films.describe()"
      ],
      "execution_count": null,
      "outputs": []
    },
    {
      "cell_type": "code",
      "metadata": {
        "id": "qyVjgrhkNy3f"
      },
      "source": [
        "plt.figure(figsize = (3, 15))\r\n",
        "sns.displot(films.values)"
      ],
      "execution_count": null,
      "outputs": []
    },
    {
      "cell_type": "code",
      "metadata": {
        "id": "HA2SwmYzN5ec"
      },
      "source": [
        "films.sort_values(ascending=False)[:5]"
      ],
      "execution_count": null,
      "outputs": []
    },
    {
      "cell_type": "code",
      "metadata": {
        "id": "jr3Usu9EJ_Tj"
      },
      "source": [
        "movies = pd.read_csv('/content/drive/MyDrive/추천 시스템 입문반(강의용)/data/ml_latest_small/movies.csv', index_col = 'movieId')"
      ],
      "execution_count": null,
      "outputs": []
    },
    {
      "cell_type": "code",
      "metadata": {
        "id": "ZInFLfJxK3WY"
      },
      "source": [
        "movies.loc[[356, 318, 296, 593, 2571]]"
      ],
      "execution_count": null,
      "outputs": []
    },
    {
      "cell_type": "markdown",
      "metadata": {
        "id": "0po-kevSLC4K"
      },
      "source": [
        "### 겨울왕국 평점보기"
      ]
    },
    {
      "cell_type": "code",
      "metadata": {
        "id": "8EhnB-KyLRx0"
      },
      "source": [
        "movies.loc[106696]"
      ],
      "execution_count": null,
      "outputs": []
    },
    {
      "cell_type": "code",
      "metadata": {
        "id": "sLUc4nUYLW7M"
      },
      "source": [
        "frozen = ratings[ratings['movieId'] == 106696]\r\n",
        "ratings['movieId'] == 106696 ##본 사람들을 true or false 나타내는 듯함."
      ],
      "execution_count": null,
      "outputs": []
    },
    {
      "cell_type": "code",
      "metadata": {
        "id": "1dQRTCLvLlT8"
      },
      "source": [
        "len(frozen)"
      ],
      "execution_count": null,
      "outputs": []
    },
    {
      "cell_type": "code",
      "metadata": {
        "id": "m6OGrh79qCNi"
      },
      "source": [
        "frozen['rating'].hist()"
      ],
      "execution_count": null,
      "outputs": []
    },
    {
      "cell_type": "code",
      "metadata": {
        "id": "TKa_3X4JqZlV"
      },
      "source": [
        "frozen[frozen['rating'] == 0.5]"
      ],
      "execution_count": null,
      "outputs": []
    },
    {
      "cell_type": "code",
      "metadata": {
        "id": "zs4NlMIsqef2"
      },
      "source": [
        "##frozen\r\n",
        "ratings['userId'] == 567"
      ],
      "execution_count": null,
      "outputs": []
    },
    {
      "cell_type": "code",
      "metadata": {
        "id": "mwuSGODMrm2N"
      },
      "source": [
        "ratings[ratings['userId'] == 567]"
      ],
      "execution_count": null,
      "outputs": []
    },
    {
      "cell_type": "code",
      "metadata": {
        "id": "01dMZXcHrvNa"
      },
      "source": [
        "user567 = ratings.loc[ratings['userId']== 567]\r\n",
        "user567"
      ],
      "execution_count": null,
      "outputs": []
    },
    {
      "cell_type": "code",
      "metadata": {
        "id": "ydI3RLS1sQ6P"
      },
      "source": [
        "len(user567)"
      ],
      "execution_count": null,
      "outputs": []
    },
    {
      "cell_type": "code",
      "metadata": {
        "id": "uMxPv7ZfsYzI"
      },
      "source": [
        "ratings.loc[ratings['userId'] == 567, 'rating'].hist()"
      ],
      "execution_count": null,
      "outputs": []
    },
    {
      "cell_type": "code",
      "metadata": {
        "id": "ErM3Afq3smOy"
      },
      "source": [
        "ratings['rating'].hist()"
      ],
      "execution_count": null,
      "outputs": []
    },
    {
      "cell_type": "markdown",
      "metadata": {
        "id": "Jgg7EAiltlMZ"
      },
      "source": [
        "##timestamp 컬럼 처리"
      ]
    },
    {
      "cell_type": "code",
      "metadata": {
        "id": "YnpyectuupVm"
      },
      "source": [
        "from datetime import datetime"
      ],
      "execution_count": null,
      "outputs": []
    },
    {
      "cell_type": "code",
      "metadata": {
        "id": "hKsbgPyPusyP"
      },
      "source": [
        "datetime.fromtimestamp(1537158105)"
      ],
      "execution_count": null,
      "outputs": []
    },
    {
      "cell_type": "code",
      "metadata": {
        "id": "v7FKSY5Duxp_"
      },
      "source": [
        "ratings['timestamp'] = ratings['timestamp'].apply(lambda x : datetime.fromtimestamp(x))"
      ],
      "execution_count": null,
      "outputs": []
    },
    {
      "cell_type": "code",
      "metadata": {
        "id": "VpBt1iJqu-Ih"
      },
      "source": [
        "ratings.sample()"
      ],
      "execution_count": null,
      "outputs": []
    },
    {
      "cell_type": "code",
      "metadata": {
        "id": "HrXOWlXIvKai"
      },
      "source": [
        "myratings = pd.read_csv('/content/drive/MyDrive/추천 시스템 입문반(강의용)/data/ml_latest_small/my-ratings.csv')\r\n",
        "myratings.sample()"
      ],
      "execution_count": null,
      "outputs": []
    },
    {
      "cell_type": "code",
      "metadata": {
        "id": "vCo8hhs2yEss"
      },
      "source": [
        "myratings['timestamp'] = pd.to_datetime(myratings['timestamp'])"
      ],
      "execution_count": null,
      "outputs": []
    },
    {
      "cell_type": "code",
      "metadata": {
        "id": "NdvygB8kyzBl"
      },
      "source": [
        "ratings_concat = pd.concat([ratings, myratings])\r\n",
        "ratings_concat.tail()"
      ],
      "execution_count": null,
      "outputs": []
    },
    {
      "cell_type": "code",
      "metadata": {
        "id": "yhiyOSp0zTWa"
      },
      "source": [
        "ratings_concat.to_pickle('/content/drive/MyDrive/추천 시스템 입문반(강의용)/data/ml_latest_small/ratings_updated.p')"
      ],
      "execution_count": null,
      "outputs": []
    },
    {
      "cell_type": "code",
      "metadata": {
        "id": "iztyl-PRzqJy"
      },
      "source": [
        ""
      ],
      "execution_count": null,
      "outputs": []
    }
  ]
}